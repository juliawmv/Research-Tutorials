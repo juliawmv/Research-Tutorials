{
  "metadata": {
    "kernelspec": {
      "name": "python",
      "display_name": "Python (Pyodide)",
      "language": "python"
    },
    "language_info": {
      "codemirror_mode": {
        "name": "python",
        "version": 3
      },
      "file_extension": ".py",
      "mimetype": "text/x-python",
      "name": "python",
      "nbconvert_exporter": "python",
      "pygments_lexer": "ipython3",
      "version": "3.8"
    }
  },
  "nbformat_minor": 4,
  "nbformat": 4,
  "cells": [
    {
      "cell_type": "code",
      "source": "from astropy.cosmology import FlatLambdaCDM\nimport astropy.units as u\n\n# In this case we just need to define the matter density \n# and hubble parameter at z=0.\n\n# Note the default units for the hubble parameter H0 are km/s/Mpc. \n# We will pass in a `Quantity` object with the units specified. \n\ncosmo = FlatLambdaCDM(H0=70*u.km/u.s/u.Mpc, Om0=0.3)",
      "metadata": {
        "trusted": true
      },
      "outputs": [],
      "execution_count": 3
    },
    {
      "cell_type": "code",
      "source": "import numpy as np\nimport scipy.special\nzvals = np.arange(0, 6, 0.1)\ndist = cosmo.angular_diameter_distance(zvals)\n\nfig = plt.figure(figsize=(6,4))\nax = fig.add_subplot(111)\nax.plot(zvals, dist)",
      "metadata": {
        "trusted": true
      },
      "outputs": [
        {
          "ename": "<class 'ModuleNotFoundError'>",
          "evalue": "No module named 'scipy.special'",
          "traceback": [
            "\u001b[0;31m---------------------------------------------------------------------------\u001b[0m",
            "\u001b[0;31mModuleNotFoundError\u001b[0m                       Traceback (most recent call last)",
            "Cell \u001b[0;32mIn[6], line 4\u001b[0m\n\u001b[1;32m      2\u001b[0m \u001b[38;5;28;01mimport\u001b[39;00m \u001b[38;5;21;01mscipy\u001b[39;00m\u001b[38;5;21;01m.\u001b[39;00m\u001b[38;5;21;01mspecial\u001b[39;00m\n\u001b[1;32m      3\u001b[0m zvals \u001b[38;5;241m=\u001b[39m np\u001b[38;5;241m.\u001b[39marange(\u001b[38;5;241m0\u001b[39m, \u001b[38;5;241m6\u001b[39m, \u001b[38;5;241m0.1\u001b[39m)\n\u001b[0;32m----> 4\u001b[0m dist \u001b[38;5;241m=\u001b[39m \u001b[43mcosmo\u001b[49m\u001b[38;5;241;43m.\u001b[39;49m\u001b[43mangular_diameter_distance\u001b[49m\u001b[43m(\u001b[49m\u001b[43mzvals\u001b[49m\u001b[43m)\u001b[49m\n\u001b[1;32m      6\u001b[0m fig \u001b[38;5;241m=\u001b[39m plt\u001b[38;5;241m.\u001b[39mfigure(figsize\u001b[38;5;241m=\u001b[39m(\u001b[38;5;241m6\u001b[39m,\u001b[38;5;241m4\u001b[39m))\n\u001b[1;32m      7\u001b[0m ax \u001b[38;5;241m=\u001b[39m fig\u001b[38;5;241m.\u001b[39madd_subplot(\u001b[38;5;241m111\u001b[39m)\n",
            "File \u001b[0;32m/lib/python3.11/site-packages/astropy/cosmology/flrw/base.py:1234\u001b[0m, in \u001b[0;36mFLRW.angular_diameter_distance\u001b[0;34m(self, z)\u001b[0m\n\u001b[1;32m   1211\u001b[0m \u001b[38;5;250m\u001b[39m\u001b[38;5;124;03m\"\"\"Angular diameter distance in Mpc at a given redshift.\u001b[39;00m\n\u001b[1;32m   1212\u001b[0m \n\u001b[1;32m   1213\u001b[0m \u001b[38;5;124;03mThis gives the proper (sometimes called 'physical') transverse\u001b[39;00m\n\u001b[0;32m   (...)\u001b[0m\n\u001b[1;32m   1231\u001b[0m \u001b[38;5;124;03m.. [3] Peebles, P. (1993). Principles of Physical Cosmology, pp 325-327.\u001b[39;00m\n\u001b[1;32m   1232\u001b[0m \u001b[38;5;124;03m\"\"\"\u001b[39;00m\n\u001b[1;32m   1233\u001b[0m z \u001b[38;5;241m=\u001b[39m aszarr(z)\n\u001b[0;32m-> 1234\u001b[0m \u001b[38;5;28;01mreturn\u001b[39;00m \u001b[38;5;28;43mself\u001b[39;49m\u001b[38;5;241;43m.\u001b[39;49m\u001b[43mcomoving_transverse_distance\u001b[49m\u001b[43m(\u001b[49m\u001b[43mz\u001b[49m\u001b[43m)\u001b[49m \u001b[38;5;241m/\u001b[39m (z \u001b[38;5;241m+\u001b[39m \u001b[38;5;241m1.0\u001b[39m)\n",
            "File \u001b[0;32m/lib/python3.11/site-packages/astropy/cosmology/flrw/base.py:1175\u001b[0m, in \u001b[0;36mFLRW.comoving_transverse_distance\u001b[0;34m(self, z)\u001b[0m\n\u001b[1;32m   1153\u001b[0m \u001b[38;5;28;01mdef\u001b[39;00m \u001b[38;5;21mcomoving_transverse_distance\u001b[39m(\u001b[38;5;28mself\u001b[39m, z):\n\u001b[1;32m   1154\u001b[0m \u001b[38;5;250m    \u001b[39m\u001b[38;5;124mr\u001b[39m\u001b[38;5;124;03m\"\"\"Comoving transverse distance in Mpc at a given redshift.\u001b[39;00m\n\u001b[1;32m   1155\u001b[0m \n\u001b[1;32m   1156\u001b[0m \u001b[38;5;124;03m    This value is the transverse comoving distance at redshift ``z``\u001b[39;00m\n\u001b[0;32m   (...)\u001b[0m\n\u001b[1;32m   1173\u001b[0m \u001b[38;5;124;03m    This quantity is also called the 'proper motion distance' in some texts.\u001b[39;00m\n\u001b[1;32m   1174\u001b[0m \u001b[38;5;124;03m    \"\"\"\u001b[39;00m\n\u001b[0;32m-> 1175\u001b[0m     \u001b[38;5;28;01mreturn\u001b[39;00m \u001b[38;5;28;43mself\u001b[39;49m\u001b[38;5;241;43m.\u001b[39;49m\u001b[43m_comoving_transverse_distance_z1z2\u001b[49m\u001b[43m(\u001b[49m\u001b[38;5;241;43m0\u001b[39;49m\u001b[43m,\u001b[49m\u001b[43m \u001b[49m\u001b[43mz\u001b[49m\u001b[43m)\u001b[49m\n",
            "File \u001b[0;32m/lib/python3.11/site-packages/astropy/cosmology/flrw/base.py:1200\u001b[0m, in \u001b[0;36mFLRW._comoving_transverse_distance_z1z2\u001b[0;34m(self, z1, z2)\u001b[0m\n\u001b[1;32m   1178\u001b[0m \u001b[38;5;250m\u001b[39m\u001b[38;5;124mr\u001b[39m\u001b[38;5;124;03m\"\"\"Comoving transverse distance in Mpc between two redshifts.\u001b[39;00m\n\u001b[1;32m   1179\u001b[0m \n\u001b[1;32m   1180\u001b[0m \u001b[38;5;124;03mThis value is the transverse comoving distance at redshift ``z2`` as\u001b[39;00m\n\u001b[0;32m   (...)\u001b[0m\n\u001b[1;32m   1197\u001b[0m \u001b[38;5;124;03mThis quantity is also called the 'proper motion distance' in some texts.\u001b[39;00m\n\u001b[1;32m   1198\u001b[0m \u001b[38;5;124;03m\"\"\"\u001b[39;00m\n\u001b[1;32m   1199\u001b[0m Ok0 \u001b[38;5;241m=\u001b[39m \u001b[38;5;28mself\u001b[39m\u001b[38;5;241m.\u001b[39m_Ok0\n\u001b[0;32m-> 1200\u001b[0m dc \u001b[38;5;241m=\u001b[39m \u001b[38;5;28;43mself\u001b[39;49m\u001b[38;5;241;43m.\u001b[39;49m\u001b[43m_comoving_distance_z1z2\u001b[49m\u001b[43m(\u001b[49m\u001b[43mz1\u001b[49m\u001b[43m,\u001b[49m\u001b[43m \u001b[49m\u001b[43mz2\u001b[49m\u001b[43m)\u001b[49m\n\u001b[1;32m   1201\u001b[0m \u001b[38;5;28;01mif\u001b[39;00m Ok0 \u001b[38;5;241m==\u001b[39m \u001b[38;5;241m0\u001b[39m:\n\u001b[1;32m   1202\u001b[0m     \u001b[38;5;28;01mreturn\u001b[39;00m dc\n",
            "File \u001b[0;32m/lib/python3.11/site-packages/astropy/cosmology/flrw/lambdacdm.py:380\u001b[0m, in \u001b[0;36mLambdaCDM._hypergeometric_comoving_distance_z1z2\u001b[0;34m(self, z1, z2)\u001b[0m\n\u001b[1;32m    377\u001b[0m \u001b[38;5;66;03m# Use np.sqrt here to handle negative s (Om0>1).\u001b[39;00m\n\u001b[1;32m    378\u001b[0m prefactor \u001b[38;5;241m=\u001b[39m \u001b[38;5;28mself\u001b[39m\u001b[38;5;241m.\u001b[39m_hubble_distance \u001b[38;5;241m/\u001b[39m np\u001b[38;5;241m.\u001b[39msqrt(s \u001b[38;5;241m*\u001b[39m \u001b[38;5;28mself\u001b[39m\u001b[38;5;241m.\u001b[39m_Om0)\n\u001b[1;32m    379\u001b[0m \u001b[38;5;28;01mreturn\u001b[39;00m prefactor \u001b[38;5;241m*\u001b[39m (\n\u001b[0;32m--> 380\u001b[0m     \u001b[38;5;28;43mself\u001b[39;49m\u001b[38;5;241;43m.\u001b[39;49m\u001b[43m_T_hypergeometric\u001b[49m\u001b[43m(\u001b[49m\u001b[43ms\u001b[49m\u001b[43m \u001b[49m\u001b[38;5;241;43m/\u001b[39;49m\u001b[43m \u001b[49m\u001b[43m(\u001b[49m\u001b[43mz1\u001b[49m\u001b[43m \u001b[49m\u001b[38;5;241;43m+\u001b[39;49m\u001b[43m \u001b[49m\u001b[38;5;241;43m1.0\u001b[39;49m\u001b[43m)\u001b[49m\u001b[43m)\u001b[49m\n\u001b[1;32m    381\u001b[0m     \u001b[38;5;241m-\u001b[39m \u001b[38;5;28mself\u001b[39m\u001b[38;5;241m.\u001b[39m_T_hypergeometric(s \u001b[38;5;241m/\u001b[39m (z2 \u001b[38;5;241m+\u001b[39m \u001b[38;5;241m1.0\u001b[39m))\n\u001b[1;32m    382\u001b[0m )\n",
            "File \u001b[0;32m/lib/python3.11/site-packages/astropy/cosmology/flrw/lambdacdm.py:404\u001b[0m, in \u001b[0;36mLambdaCDM._T_hypergeometric\u001b[0;34m(self, x)\u001b[0m\n\u001b[1;32m    384\u001b[0m \u001b[38;5;28;01mdef\u001b[39;00m \u001b[38;5;21m_T_hypergeometric\u001b[39m(\u001b[38;5;28mself\u001b[39m, x):\n\u001b[1;32m    385\u001b[0m \u001b[38;5;250m    \u001b[39m\u001b[38;5;124mr\u001b[39m\u001b[38;5;124;03m\"\"\"Compute value using Gauss Hypergeometric function 2F1.\u001b[39;00m\n\u001b[1;32m    386\u001b[0m \n\u001b[1;32m    387\u001b[0m \u001b[38;5;124;03m    .. math::\u001b[39;00m\n\u001b[0;32m   (...)\u001b[0m\n\u001b[1;32m    402\u001b[0m \u001b[38;5;124;03m       in a flat cosmology. MNRAS, 468(1), 927-930.\u001b[39;00m\n\u001b[1;32m    403\u001b[0m \u001b[38;5;124;03m    \"\"\"\u001b[39;00m\n\u001b[0;32m--> 404\u001b[0m     \u001b[38;5;28;01mreturn\u001b[39;00m \u001b[38;5;241m2\u001b[39m \u001b[38;5;241m*\u001b[39m np\u001b[38;5;241m.\u001b[39msqrt(x) \u001b[38;5;241m*\u001b[39m \u001b[43mhyp2f1\u001b[49m\u001b[43m(\u001b[49m\u001b[38;5;241;43m1.0\u001b[39;49m\u001b[43m \u001b[49m\u001b[38;5;241;43m/\u001b[39;49m\u001b[43m \u001b[49m\u001b[38;5;241;43m6\u001b[39;49m\u001b[43m,\u001b[49m\u001b[43m \u001b[49m\u001b[38;5;241;43m1.0\u001b[39;49m\u001b[43m \u001b[49m\u001b[38;5;241;43m/\u001b[39;49m\u001b[43m \u001b[49m\u001b[38;5;241;43m2\u001b[39;49m\u001b[43m,\u001b[49m\u001b[43m \u001b[49m\u001b[38;5;241;43m7.0\u001b[39;49m\u001b[43m \u001b[49m\u001b[38;5;241;43m/\u001b[39;49m\u001b[43m \u001b[49m\u001b[38;5;241;43m6\u001b[39;49m\u001b[43m,\u001b[49m\u001b[43m \u001b[49m\u001b[38;5;241;43m-\u001b[39;49m\u001b[43m(\u001b[49m\u001b[43mx\u001b[49m\u001b[38;5;241;43m*\u001b[39;49m\u001b[38;5;241;43m*\u001b[39;49m\u001b[38;5;241;43m3\u001b[39;49m\u001b[43m)\u001b[49m\u001b[43m)\u001b[49m\n",
            "File \u001b[0;32m/lib/python3.11/site-packages/astropy/cosmology/flrw/lambdacdm.py:25\u001b[0m, in \u001b[0;36mhyp2f1\u001b[0;34m(*args, **kwargs)\u001b[0m\n\u001b[1;32m     24\u001b[0m \u001b[38;5;28;01mdef\u001b[39;00m \u001b[38;5;21mhyp2f1\u001b[39m(\u001b[38;5;241m*\u001b[39margs, \u001b[38;5;241m*\u001b[39m\u001b[38;5;241m*\u001b[39mkwargs):\n\u001b[0;32m---> 25\u001b[0m     \u001b[38;5;28;01mraise\u001b[39;00m \u001b[38;5;167;01mModuleNotFoundError\u001b[39;00m(\u001b[38;5;124m\"\u001b[39m\u001b[38;5;124mNo module named \u001b[39m\u001b[38;5;124m'\u001b[39m\u001b[38;5;124mscipy.special\u001b[39m\u001b[38;5;124m'\u001b[39m\u001b[38;5;124m\"\u001b[39m)\n",
            "\u001b[0;31mModuleNotFoundError\u001b[0m: No module named 'scipy.special'"
          ],
          "output_type": "error"
        }
      ],
      "execution_count": 6
    },
    {
      "cell_type": "code",
      "source": "",
      "metadata": {
        "trusted": true
      },
      "outputs": [],
      "execution_count": null
    }
  ]
}