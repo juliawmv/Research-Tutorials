{
 "cells": [
  {
   "cell_type": "code",
   "execution_count": 12,
   "metadata": {},
   "outputs": [
    {
     "data": {
      "text/html": [
       "<div><i>Table length=4</i>\n",
       "<table id=\"table2960782257392\" class=\"table-striped table-bordered table-condensed\">\n",
       "<thead><tr><th>name</th><th>ra</th><th>dec</th></tr></thead>\n",
       "<thead><tr><th>str6</th><th>str10</th><th>str9</th></tr></thead>\n",
       "<tr><td>BLG100</td><td>17:51:00.0</td><td>-29:59:48</td></tr>\n",
       "<tr><td>BLG101</td><td>17:53:40.2</td><td>-29:49:52</td></tr>\n",
       "<tr><td>BLG102</td><td>17:56:20.2</td><td>-29:30:51</td></tr>\n",
       "<tr><td>BLG103</td><td>17:56:20.2</td><td>-30:06:22</td></tr>\n",
       "</table></div>"
      ],
      "text/plain": [
       "<Table length=4>\n",
       " name      ra        dec   \n",
       " str6    str10       str9  \n",
       "------ ---------- ---------\n",
       "BLG100 17:51:00.0 -29:59:48\n",
       "BLG101 17:53:40.2 -29:49:52\n",
       "BLG102 17:56:20.2 -29:30:51\n",
       "BLG103 17:56:20.2 -30:06:22"
      ]
     },
     "execution_count": 12,
     "metadata": {},
     "output_type": "execute_result"
    }
   ],
   "source": [
    "# import ascii subpackage \n",
    "from astropy.io import ascii\n",
    "\n",
    "# display data format\n",
    "tbl = ascii.read(\"simple_table.csv\")\n",
    "tbl"
   ]
  },
  {
   "cell_type": "code",
   "execution_count": 13,
   "metadata": {},
   "outputs": [
    {
     "data": {
      "text/html": [
       "&lt;Column name=&apos;ra&apos; dtype=&apos;str10&apos; length=4&gt;\n",
       "<table>\n",
       "<tr><td>17:51:00.0</td></tr>\n",
       "<tr><td>17:53:40.2</td></tr>\n",
       "<tr><td>17:56:20.2</td></tr>\n",
       "<tr><td>17:56:20.2</td></tr>\n",
       "</table>"
      ],
      "text/plain": [
       "<Column name='ra' dtype='str10' length=4>\n",
       "17:51:00.0\n",
       "17:53:40.2\n",
       "17:56:20.2\n",
       "17:56:20.2"
      ]
     },
     "execution_count": 13,
     "metadata": {},
     "output_type": "execute_result"
    }
   ],
   "source": [
    "# display the ra column\n",
    "\n",
    "tbl[\"ra\"]"
   ]
  },
  {
   "cell_type": "code",
   "execution_count": 14,
   "metadata": {},
   "outputs": [
    {
     "data": {
      "text/plain": [
       "267.75"
      ]
     },
     "execution_count": 14,
     "metadata": {},
     "output_type": "execute_result"
    }
   ],
   "source": [
    "import astropy.coordinates as coord\n",
    "import astropy.units as u\n",
    "\n",
    "# convert first row of ra from sexigesimal to decimal degrees\n",
    "first_row = tbl[0] # get the first (0th) row\n",
    "ra = coord.Angle(first_row[\"ra\"], unit=u.hour) # create an Angle object\n",
    "ra.degree # convert to degrees"
   ]
  },
  {
   "cell_type": "code",
   "execution_count": null,
   "metadata": {},
   "outputs": [],
   "source": [
    "# don't have the file for this section, but will write it out to understand\n",
    "\n",
    "# read in 'messy' file and displays columns from how file was read\n",
    "tbl = ascii.read(\"Young-Objects-Compilation.csv\")\n",
    "tbl.colnames\n",
    "\n",
    "# display column names from row 1 of data\n",
    "tbl[0]\n",
    "\n",
    "# fixes column names but changing header parameter in how data is read\n",
    "tbl = ascii.read(\"Young-Objects-Compilation.csv\", header_start=1)\n",
    "tbl.colnames\n",
    "\n",
    "# specifies for the reading to begins on the 3rd row\n",
    "tbl = ascii.read(\"Young-Objects-Compilation.csv\", header_start=1, data_start=2)\n",
    "\n",
    "# displays missing data (masked column - missing data is masked out)\n",
    "print(tbl['RA'])\n",
    "\n",
    "# fills missing data with NaN\n",
    "tbl['RA'].filled(np.nan)\n",
    "\n",
    "# loads data to start from line 1 and that data starts at line 2\n",
    "data = ascii.read(\"Young-Objects-Compilation.csv\", header_start=1, data_start=2)"
   ]
  },
  {
   "cell_type": "code",
   "execution_count": null,
   "metadata": {},
   "outputs": [],
   "source": [
    "# plots color magnitude diagram\n",
    "plt.scatter(data[\"Jmag\"] - data[\"Kmag\"], data[\"Jmag\"]) # plot J-K vs. J\n",
    "plt.ylim(reversed(plt.ylim())) # flip the y-axis\n",
    "plt.xlabel(\"$J-K_s$\", fontsize=20)\n",
    "plt.ylabel(\"$J$\", fontsize=20)"
   ]
  },
  {
   "cell_type": "code",
   "execution_count": null,
   "metadata": {},
   "outputs": [],
   "source": [
    "# generates ra and dec from loaded data\n",
    "ra = coord.Angle(data['RA'].filled(np.nan)*u.degree)\n",
    "ra = ra.wrap_at(180*u.degree)\n",
    "dec = coord.Angle(data['Dec'].filled(np.nan)*u.degree)\n",
    "\n",
    "# plots angular position from projection on the sky from angular coord value\n",
    "fig = plt.figure(figsize=(8,6))\n",
    "ax = fig.add_subplot(111, projection=\"mollweide\")\n",
    "ax.scatter(ra.radian, dec.radian)"
   ]
  },
  {
   "cell_type": "code",
   "execution_count": null,
   "metadata": {},
   "outputs": [],
   "source": [
    "# changes horizontal ticks into units of hours to display a grid\n",
    "fig = plt.figure(figsize=(8,6))\n",
    "ax = fig.add_subplot(111, projection=\"mollweide\")\n",
    "ax.scatter(ra.radian, dec.radian)\n",
    "ax.set_xticklabels(['14h','16h','18h','20h','22h','0h','2h','4h','6h','8h','10h'])\n",
    "ax.grid(True)\n",
    "\n",
    "# saves figure into a pdf\n",
    "fig.savefig(\"map.pdf\")"
   ]
  },
  {
   "cell_type": "code",
   "execution_count": null,
   "metadata": {},
   "outputs": [],
   "source": [
    "'''\n",
    "\n",
    "Exercise 1: Make the map figures as just above, but color the points by the \n",
    "Kmag' column of the table\n",
    "\n",
    "'''\n",
    "\n",
    "\n"
   ]
  },
  {
   "cell_type": "code",
   "execution_count": null,
   "metadata": {},
   "outputs": [],
   "source": [
    "'''\n",
    "\n",
    "Exercise 2: Try making the maps again, but with each of the following \n",
    "projections: aitoff, hammer, lambert, and None (which is the same as not \n",
    "giving any projection). Do any of them make the data seem easier to understand?\n",
    "\n",
    "'''\n",
    "\n"
   ]
  }
 ],
 "metadata": {
  "kernelspec": {
   "display_name": "Python 3 (ipykernel)",
   "language": "python",
   "name": "python3"
  },
  "language_info": {
   "codemirror_mode": {
    "name": "ipython",
    "version": 3
   },
   "file_extension": ".py",
   "mimetype": "text/x-python",
   "name": "python",
   "nbconvert_exporter": "python",
   "pygments_lexer": "ipython3",
   "version": "3.12.0"
  }
 },
 "nbformat": 4,
 "nbformat_minor": 4
}
